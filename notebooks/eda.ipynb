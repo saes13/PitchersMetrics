{
 "cells": [
  {
   "cell_type": "code",
   "execution_count": 4,
   "metadata": {},
   "outputs": [
    {
     "name": "stdout",
     "output_type": "stream",
     "text": [
      "           Bateador          Etapa            Equipo            Pitcher  AB  \\\n",
      "0  Emilio Bonifacio  Serie Regular  Tigres del Licey       Jhan Mariñez   2   \n",
      "1  Emilio Bonifacio  Serie Regular  Tigres del Licey        Pedro Strop   0   \n",
      "2  Emilio Bonifacio  Serie Regular  Tigres del Licey  Richard Rodriguez   1   \n",
      "3  Emilio Bonifacio  Serie Regular  Tigres del Licey     Williams Jerez   0   \n",
      "4  Emilio Bonifacio  Serie Regular  Tigres del Licey     Dinelson Lamet   1   \n",
      "\n",
      "   R  H  2B  3B  HR  RBI  BB  IBB  SO  AVG    OBP  SLG    OPS  Unnamed: 18  \n",
      "0  0  0   0   0   0    0   0    0   0  0.0  0.000  0.0  0.000          NaN  \n",
      "1  0  0   0   0   0    0   0    0   0  0.0  0.000  0.0  0.000          NaN  \n",
      "2  0  0   0   0   0    0   0    0   0  0.0  0.000  0.0  0.000          NaN  \n",
      "3  0  0   0   0   0    0   1    0   0  0.0  1.000  0.0  0.000          NaN  \n",
      "4  1  0   0   0   0    0   2    0   0  0.0  0.667  0.0  0.667          NaN  \n",
      "<class 'pandas.core.frame.DataFrame'>\n",
      "RangeIndex: 287 entries, 0 to 286\n",
      "Data columns (total 19 columns):\n",
      " #   Column       Non-Null Count  Dtype  \n",
      "---  ------       --------------  -----  \n",
      " 0   Bateador     287 non-null    object \n",
      " 1   Etapa        287 non-null    object \n",
      " 2   Equipo       287 non-null    object \n",
      " 3   Pitcher      287 non-null    object \n",
      " 4   AB           287 non-null    int64  \n",
      " 5   R            287 non-null    int64  \n",
      " 6   H            287 non-null    int64  \n",
      " 7   2B           287 non-null    int64  \n",
      " 8   3B           287 non-null    int64  \n",
      " 9   HR           287 non-null    int64  \n",
      " 10  RBI          287 non-null    int64  \n",
      " 11  BB           287 non-null    int64  \n",
      " 12  IBB          287 non-null    int64  \n",
      " 13  SO           287 non-null    int64  \n",
      " 14  AVG          287 non-null    float64\n",
      " 15  OBP          287 non-null    float64\n",
      " 16  SLG          287 non-null    float64\n",
      " 17  OPS          287 non-null    float64\n",
      " 18  Unnamed: 18  1 non-null      float64\n",
      "dtypes: float64(5), int64(10), object(4)\n",
      "memory usage: 42.7+ KB\n",
      "None\n",
      "               AB           R           H          2B          3B          HR  \\\n",
      "count  287.000000  287.000000  287.000000  287.000000  287.000000  287.000000   \n",
      "mean     1.344948    0.222997    0.365854    0.069686    0.003484    0.017422   \n",
      "std      1.468611    0.464578    0.575081    0.255063    0.059028    0.131065   \n",
      "min      0.000000    0.000000    0.000000    0.000000    0.000000    0.000000   \n",
      "25%      1.000000    0.000000    0.000000    0.000000    0.000000    0.000000   \n",
      "50%      1.000000    0.000000    0.000000    0.000000    0.000000    0.000000   \n",
      "75%      2.000000    0.000000    1.000000    0.000000    0.000000    0.000000   \n",
      "max     10.000000    2.000000    3.000000    1.000000    1.000000    1.000000   \n",
      "\n",
      "              RBI          BB    IBB          SO         AVG         OBP  \\\n",
      "count  287.000000  287.000000  287.0  287.000000  287.000000  287.000000   \n",
      "mean     0.202091    0.195122    0.0    0.222997    0.230314    0.352972   \n",
      "std      0.555578    0.430779    0.0    0.472044    0.382831    0.427399   \n",
      "min      0.000000    0.000000    0.0    0.000000    0.000000    0.000000   \n",
      "25%      0.000000    0.000000    0.0    0.000000    0.000000    0.000000   \n",
      "50%      0.000000    0.000000    0.0    0.000000    0.000000    0.000000   \n",
      "75%      0.000000    0.000000    0.0    0.000000    0.366500    1.000000   \n",
      "max      4.000000    2.000000    0.0    2.000000    1.000000    1.000000   \n",
      "\n",
      "              SLG         OPS  Unnamed: 18  \n",
      "count  287.000000  287.000000          1.0  \n",
      "mean     0.328746    0.593951          1.5  \n",
      "std      0.666494    1.003116          NaN  \n",
      "min      0.000000    0.000000          1.5  \n",
      "25%      0.000000    0.000000          1.5  \n",
      "50%      0.000000    0.000000          1.5  \n",
      "75%      0.500000    0.916500          1.5  \n",
      "max      4.000000    5.000000          1.5  \n"
     ]
    }
   ],
   "source": [
    "import pandas as pd\n",
    "df = pd.read_csv(\"../data/BateadorVsPitcher.csv\")\n",
    "print(df.head())\n",
    "print(df.info())\n",
    "print(df.describe())"
   ]
  },
  {
   "cell_type": "code",
   "execution_count": null,
   "metadata": {},
   "outputs": [],
   "source": []
  }
 ],
 "metadata": {
  "kernelspec": {
   "display_name": "venv",
   "language": "python",
   "name": "python3"
  },
  "language_info": {
   "codemirror_mode": {
    "name": "ipython",
    "version": 3
   },
   "file_extension": ".py",
   "mimetype": "text/x-python",
   "name": "python",
   "nbconvert_exporter": "python",
   "pygments_lexer": "ipython3",
   "version": "3.11.3"
  }
 },
 "nbformat": 4,
 "nbformat_minor": 2
}
