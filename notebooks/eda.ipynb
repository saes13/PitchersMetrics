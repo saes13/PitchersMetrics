{
 "cells": [
  {
   "cell_type": "code",
   "execution_count": 4,
   "metadata": {},
   "outputs": [
    {
     "name": "stdout",
     "output_type": "stream",
     "text": [
      "           Bateador          Etapa            Equipo            Pitcher  AB  \\\n",
      "0  Emilio Bonifacio  Serie Regular  Tigres del Licey       Jhan Mariñez   2   \n",
      "1  Emilio Bonifacio  Serie Regular  Tigres del Licey        Pedro Strop   0   \n",
      "2  Emilio Bonifacio  Serie Regular  Tigres del Licey  Richard Rodriguez   1   \n",
      "3  Emilio Bonifacio  Serie Regular  Tigres del Licey     Williams Jerez   0   \n",
      "4  Emilio Bonifacio  Serie Regular  Tigres del Licey     Dinelson Lamet   1   \n",
      "\n",
      "   R  H  2B  3B  HR  RBI  BB  IBB  SO  AVG    OBP  SLG    OPS  Unnamed: 18  \n",
      "0  0  0   0   0   0    0   0    0   0  0.0  0.000  0.0  0.000          NaN  \n",
      "1  0  0   0   0   0    0   0    0   0  0.0  0.000  0.0  0.000          NaN  \n",
      "2  0  0   0   0   0    0   0    0   0  0.0  0.000  0.0  0.000          NaN  \n",
      "3  0  0   0   0   0    0   1    0   0  0.0  1.000  0.0  0.000          NaN  \n",
      "4  1  0   0   0   0    0   2    0   0  0.0  0.667  0.0  0.667          NaN  \n",
      "<class 'pandas.core.frame.DataFrame'>\n",
      "RangeIndex: 287 entries, 0 to 286\n",
      "Data columns (total 19 columns):\n",
      " #   Column       Non-Null Count  Dtype  \n",
      "---  ------       --------------  -----  \n",
      " 0   Bateador     287 non-null    object \n",
      " 1   Etapa        287 non-null    object \n",
      " 2   Equipo       287 non-null    object \n",
      " 3   Pitcher      287 non-null    object \n",
      " 4   AB           287 non-null    int64  \n",
      " 5   R            287 non-null    int64  \n",
      " 6   H            287 non-null    int64  \n",
      " 7   2B           287 non-null    int64  \n",
      " 8   3B           287 non-null    int64  \n",
      " 9   HR           287 non-null    int64  \n",
      " 10  RBI          287 non-null    int64  \n",
      " 11  BB           287 non-null    int64  \n",
      " 12  IBB          287 non-null    int64  \n",
      " 13  SO           287 non-null    int64  \n",
      " 14  AVG          287 non-null    float64\n",
      " 15  OBP          287 non-null    float64\n",
      " 16  SLG          287 non-null    float64\n",
      " 17  OPS          287 non-null    float64\n",
      " 18  Unnamed: 18  1 non-null      float64\n",
      "dtypes: float64(5), int64(10), object(4)\n",
      "memory usage: 42.7+ KB\n",
      "None\n",
      "               AB           R           H          2B          3B          HR  \\\n",
      "count  287.000000  287.000000  287.000000  287.000000  287.000000  287.000000   \n",
      "mean     1.344948    0.222997    0.365854    0.069686    0.003484    0.017422   \n",
      "std      1.468611    0.464578    0.575081    0.255063    0.059028    0.131065   \n",
      "min      0.000000    0.000000    0.000000    0.000000    0.000000    0.000000   \n",
      "25%      1.000000    0.000000    0.000000    0.000000    0.000000    0.000000   \n",
      "50%      1.000000    0.000000    0.000000    0.000000    0.000000    0.000000   \n",
      "75%      2.000000    0.000000    1.000000    0.000000    0.000000    0.000000   \n",
      "max     10.000000    2.000000    3.000000    1.000000    1.000000    1.000000   \n",
      "\n",
      "              RBI          BB    IBB          SO         AVG         OBP  \\\n",
      "count  287.000000  287.000000  287.0  287.000000  287.000000  287.000000   \n",
      "mean     0.202091    0.195122    0.0    0.222997    0.230314    0.352972   \n",
      "std      0.555578    0.430779    0.0    0.472044    0.382831    0.427399   \n",
      "min      0.000000    0.000000    0.0    0.000000    0.000000    0.000000   \n",
      "25%      0.000000    0.000000    0.0    0.000000    0.000000    0.000000   \n",
      "50%      0.000000    0.000000    0.0    0.000000    0.000000    0.000000   \n",
      "75%      0.000000    0.000000    0.0    0.000000    0.366500    1.000000   \n",
      "max      4.000000    2.000000    0.0    2.000000    1.000000    1.000000   \n",
      "\n",
      "              SLG         OPS  Unnamed: 18  \n",
      "count  287.000000  287.000000          1.0  \n",
      "mean     0.328746    0.593951          1.5  \n",
      "std      0.666494    1.003116          NaN  \n",
      "min      0.000000    0.000000          1.5  \n",
      "25%      0.000000    0.000000          1.5  \n",
      "50%      0.000000    0.000000          1.5  \n",
      "75%      0.500000    0.916500          1.5  \n",
      "max      4.000000    5.000000          1.5  \n"
     ]
    }
   ],
   "source": [
    "import pandas as pd\n",
    "df = pd.read_csv(\"../data/BateadorVsPitcher.csv\")\n",
    "print(df.head())\n",
    "print(df.info())\n",
    "print(df.describe())"
   ]
  },
  {
   "cell_type": "code",
   "execution_count": 2,
   "metadata": {},
   "outputs": [
    {
     "name": "stdout",
     "output_type": "stream",
     "text": [
      "Requirement already satisfied: ydata-profiling in c:\\users\\saess\\documents\\vs_code_projects\\pitchersmetrics\\venv\\lib\\site-packages (4.12.2)\n",
      "Requirement already satisfied: scipy<1.16,>=1.4.1 in c:\\users\\saess\\documents\\vs_code_projects\\pitchersmetrics\\venv\\lib\\site-packages (from ydata-profiling) (1.15.1)\n",
      "Requirement already satisfied: pandas!=1.4.0,<3,>1.1 in c:\\users\\saess\\documents\\vs_code_projects\\pitchersmetrics\\venv\\lib\\site-packages (from ydata-profiling) (2.2.3)\n",
      "Requirement already satisfied: matplotlib>=3.5 in c:\\users\\saess\\documents\\vs_code_projects\\pitchersmetrics\\venv\\lib\\site-packages (from ydata-profiling) (3.10.0)\n",
      "Requirement already satisfied: pydantic>=2 in c:\\users\\saess\\documents\\vs_code_projects\\pitchersmetrics\\venv\\lib\\site-packages (from ydata-profiling) (2.10.6)\n",
      "Requirement already satisfied: PyYAML<6.1,>=5.0.0 in c:\\users\\saess\\documents\\vs_code_projects\\pitchersmetrics\\venv\\lib\\site-packages (from ydata-profiling) (6.0.2)\n",
      "Requirement already satisfied: jinja2<3.2,>=2.11.1 in c:\\users\\saess\\documents\\vs_code_projects\\pitchersmetrics\\venv\\lib\\site-packages (from ydata-profiling) (3.1.5)\n",
      "Requirement already satisfied: visions[type_image_path]<0.8.0,>=0.7.5 in c:\\users\\saess\\documents\\vs_code_projects\\pitchersmetrics\\venv\\lib\\site-packages (from ydata-profiling) (0.7.6)\n",
      "Requirement already satisfied: numpy<2.2,>=1.16.0 in c:\\users\\saess\\documents\\vs_code_projects\\pitchersmetrics\\venv\\lib\\site-packages (from ydata-profiling) (2.1.3)\n",
      "Requirement already satisfied: htmlmin==0.1.12 in c:\\users\\saess\\documents\\vs_code_projects\\pitchersmetrics\\venv\\lib\\site-packages (from ydata-profiling) (0.1.12)\n",
      "Requirement already satisfied: phik<0.13,>=0.11.1 in c:\\users\\saess\\documents\\vs_code_projects\\pitchersmetrics\\venv\\lib\\site-packages (from ydata-profiling) (0.12.4)\n",
      "Requirement already satisfied: requests<3,>=2.24.0 in c:\\users\\saess\\documents\\vs_code_projects\\pitchersmetrics\\venv\\lib\\site-packages (from ydata-profiling) (2.32.3)\n",
      "Requirement already satisfied: tqdm<5,>=4.48.2 in c:\\users\\saess\\documents\\vs_code_projects\\pitchersmetrics\\venv\\lib\\site-packages (from ydata-profiling) (4.67.1)\n",
      "Requirement already satisfied: seaborn<0.14,>=0.10.1 in c:\\users\\saess\\documents\\vs_code_projects\\pitchersmetrics\\venv\\lib\\site-packages (from ydata-profiling) (0.13.2)\n",
      "Requirement already satisfied: multimethod<2,>=1.4 in c:\\users\\saess\\documents\\vs_code_projects\\pitchersmetrics\\venv\\lib\\site-packages (from ydata-profiling) (1.12)\n",
      "Requirement already satisfied: statsmodels<1,>=0.13.2 in c:\\users\\saess\\documents\\vs_code_projects\\pitchersmetrics\\venv\\lib\\site-packages (from ydata-profiling) (0.14.4)\n",
      "Requirement already satisfied: typeguard<5,>=3 in c:\\users\\saess\\documents\\vs_code_projects\\pitchersmetrics\\venv\\lib\\site-packages (from ydata-profiling) (4.4.1)\n",
      "Requirement already satisfied: imagehash==4.3.1 in c:\\users\\saess\\documents\\vs_code_projects\\pitchersmetrics\\venv\\lib\\site-packages (from ydata-profiling) (4.3.1)\n",
      "Requirement already satisfied: wordcloud>=1.9.3 in c:\\users\\saess\\documents\\vs_code_projects\\pitchersmetrics\\venv\\lib\\site-packages (from ydata-profiling) (1.9.4)\n",
      "Requirement already satisfied: dacite>=1.8 in c:\\users\\saess\\documents\\vs_code_projects\\pitchersmetrics\\venv\\lib\\site-packages (from ydata-profiling) (1.9.2)\n",
      "Requirement already satisfied: PyWavelets in c:\\users\\saess\\documents\\vs_code_projects\\pitchersmetrics\\venv\\lib\\site-packages (from imagehash==4.3.1->ydata-profiling) (1.8.0)\n",
      "Requirement already satisfied: pillow in c:\\users\\saess\\documents\\vs_code_projects\\pitchersmetrics\\venv\\lib\\site-packages (from imagehash==4.3.1->ydata-profiling) (11.1.0)\n",
      "Requirement already satisfied: MarkupSafe>=2.0 in c:\\users\\saess\\documents\\vs_code_projects\\pitchersmetrics\\venv\\lib\\site-packages (from jinja2<3.2,>=2.11.1->ydata-profiling) (3.0.2)\n",
      "Requirement already satisfied: contourpy>=1.0.1 in c:\\users\\saess\\documents\\vs_code_projects\\pitchersmetrics\\venv\\lib\\site-packages (from matplotlib>=3.5->ydata-profiling) (1.3.1)\n",
      "Requirement already satisfied: cycler>=0.10 in c:\\users\\saess\\documents\\vs_code_projects\\pitchersmetrics\\venv\\lib\\site-packages (from matplotlib>=3.5->ydata-profiling) (0.12.1)\n",
      "Requirement already satisfied: fonttools>=4.22.0 in c:\\users\\saess\\documents\\vs_code_projects\\pitchersmetrics\\venv\\lib\\site-packages (from matplotlib>=3.5->ydata-profiling) (4.56.0)\n",
      "Requirement already satisfied: kiwisolver>=1.3.1 in c:\\users\\saess\\documents\\vs_code_projects\\pitchersmetrics\\venv\\lib\\site-packages (from matplotlib>=3.5->ydata-profiling) (1.4.8)\n",
      "Requirement already satisfied: packaging>=20.0 in c:\\users\\saess\\documents\\vs_code_projects\\pitchersmetrics\\venv\\lib\\site-packages (from matplotlib>=3.5->ydata-profiling) (24.2)\n",
      "Requirement already satisfied: pyparsing>=2.3.1 in c:\\users\\saess\\documents\\vs_code_projects\\pitchersmetrics\\venv\\lib\\site-packages (from matplotlib>=3.5->ydata-profiling) (3.2.1)\n",
      "Requirement already satisfied: python-dateutil>=2.7 in c:\\users\\saess\\documents\\vs_code_projects\\pitchersmetrics\\venv\\lib\\site-packages (from matplotlib>=3.5->ydata-profiling) (2.9.0.post0)\n",
      "Requirement already satisfied: pytz>=2020.1 in c:\\users\\saess\\documents\\vs_code_projects\\pitchersmetrics\\venv\\lib\\site-packages (from pandas!=1.4.0,<3,>1.1->ydata-profiling) (2025.1)\n",
      "Requirement already satisfied: tzdata>=2022.7 in c:\\users\\saess\\documents\\vs_code_projects\\pitchersmetrics\\venv\\lib\\site-packages (from pandas!=1.4.0,<3,>1.1->ydata-profiling) (2025.1)\n",
      "Requirement already satisfied: joblib>=0.14.1 in c:\\users\\saess\\documents\\vs_code_projects\\pitchersmetrics\\venv\\lib\\site-packages (from phik<0.13,>=0.11.1->ydata-profiling) (1.4.2)\n",
      "Requirement already satisfied: annotated-types>=0.6.0 in c:\\users\\saess\\documents\\vs_code_projects\\pitchersmetrics\\venv\\lib\\site-packages (from pydantic>=2->ydata-profiling) (0.7.0)\n",
      "Requirement already satisfied: pydantic-core==2.27.2 in c:\\users\\saess\\documents\\vs_code_projects\\pitchersmetrics\\venv\\lib\\site-packages (from pydantic>=2->ydata-profiling) (2.27.2)\n",
      "Requirement already satisfied: typing-extensions>=4.12.2 in c:\\users\\saess\\documents\\vs_code_projects\\pitchersmetrics\\venv\\lib\\site-packages (from pydantic>=2->ydata-profiling) (4.12.2)\n",
      "Requirement already satisfied: charset-normalizer<4,>=2 in c:\\users\\saess\\documents\\vs_code_projects\\pitchersmetrics\\venv\\lib\\site-packages (from requests<3,>=2.24.0->ydata-profiling) (3.4.1)\n",
      "Requirement already satisfied: idna<4,>=2.5 in c:\\users\\saess\\documents\\vs_code_projects\\pitchersmetrics\\venv\\lib\\site-packages (from requests<3,>=2.24.0->ydata-profiling) (3.10)\n",
      "Requirement already satisfied: urllib3<3,>=1.21.1 in c:\\users\\saess\\documents\\vs_code_projects\\pitchersmetrics\\venv\\lib\\site-packages (from requests<3,>=2.24.0->ydata-profiling) (2.3.0)\n",
      "Requirement already satisfied: certifi>=2017.4.17 in c:\\users\\saess\\documents\\vs_code_projects\\pitchersmetrics\\venv\\lib\\site-packages (from requests<3,>=2.24.0->ydata-profiling) (2025.1.31)\n",
      "Requirement already satisfied: patsy>=0.5.6 in c:\\users\\saess\\documents\\vs_code_projects\\pitchersmetrics\\venv\\lib\\site-packages (from statsmodels<1,>=0.13.2->ydata-profiling) (1.0.1)\n",
      "Requirement already satisfied: colorama in c:\\users\\saess\\documents\\vs_code_projects\\pitchersmetrics\\venv\\lib\\site-packages (from tqdm<5,>=4.48.2->ydata-profiling) (0.4.6)\n",
      "Requirement already satisfied: attrs>=19.3.0 in c:\\users\\saess\\documents\\vs_code_projects\\pitchersmetrics\\venv\\lib\\site-packages (from visions[type_image_path]<0.8.0,>=0.7.5->ydata-profiling) (25.1.0)\n",
      "Requirement already satisfied: networkx>=2.4 in c:\\users\\saess\\documents\\vs_code_projects\\pitchersmetrics\\venv\\lib\\site-packages (from visions[type_image_path]<0.8.0,>=0.7.5->ydata-profiling) (3.4.2)\n",
      "Requirement already satisfied: six>=1.5 in c:\\users\\saess\\documents\\vs_code_projects\\pitchersmetrics\\venv\\lib\\site-packages (from python-dateutil>=2.7->matplotlib>=3.5->ydata-profiling) (1.17.0)\n",
      "Note: you may need to restart the kernel to use updated packages.\n"
     ]
    },
    {
     "name": "stderr",
     "output_type": "stream",
     "text": [
      "\n",
      "[notice] A new release of pip available: 22.3.1 -> 25.1\n",
      "[notice] To update, run: python.exe -m pip install --upgrade pip\n"
     ]
    }
   ],
   "source": [
    "pip install ydata-profiling"
   ]
  },
  {
   "cell_type": "code",
   "execution_count": 3,
   "metadata": {},
   "outputs": [],
   "source": [
    "from ydata_profiling import ProfileReport"
   ]
  }
 ],
 "metadata": {
  "kernelspec": {
   "display_name": "venv",
   "language": "python",
   "name": "python3"
  },
  "language_info": {
   "codemirror_mode": {
    "name": "ipython",
    "version": 3
   },
   "file_extension": ".py",
   "mimetype": "text/x-python",
   "name": "python",
   "nbconvert_exporter": "python",
   "pygments_lexer": "ipython3",
   "version": "3.11.3"
  }
 },
 "nbformat": 4,
 "nbformat_minor": 2
}
